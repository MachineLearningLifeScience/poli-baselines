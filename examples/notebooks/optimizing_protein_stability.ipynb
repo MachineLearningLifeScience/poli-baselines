{
 "cells": [
  {
   "cell_type": "markdown",
   "metadata": {},
   "source": [
    "# Optimizing protein stability using POLi"
   ]
  },
  {
   "cell_type": "markdown",
   "metadata": {},
   "source": [
    "In this chapter, we discuss how an objective function should be optimized in `POLi` _ideally_. The current implementation might diverge for now, but this is what we aim for."
   ]
  },
  {
   "cell_type": "markdown",
   "metadata": {},
   "source": [
    "## Stability optimization is a registered problem\n"
   ]
  },
  {
   "cell_type": "markdown",
   "metadata": {},
   "source": [
    "`POLi`'s registry has a `get_problems()` method which returns the objective functions already compiled. It works by loading up a `config.rc` file sitting inside `src/poli/core`."
   ]
  },
  {
   "cell_type": "code",
   "execution_count": 1,
   "metadata": {},
   "outputs": [
    {
     "data": {
      "text/plain": [
       "['MY_PROBLEM', 'SMB', 'FoldX_stability']"
      ]
     },
     "execution_count": 1,
     "metadata": {},
     "output_type": "execute_result"
    }
   ],
   "source": [
    "from poli.core.registry import get_problems\n",
    "get_problems()"
   ]
  },
  {
   "cell_type": "markdown",
   "metadata": {},
   "source": [
    "As you can see, `FoldX_stability` is already registered as a problem factory.\n",
    "\n",
    ":::{admonition} You don't have it?\n",
    "\n",
    "If `FoldX_stability` is not part of your registered problems, check `examples/adding_foldx_stability_as_objective_function` in `poli_baselines`. You should have it after running the script called `foldx_stability_objective_function.py`!\n",
    "\n",
    ":::\n",
    "\n",
    "Let's stick with it as a problem name:"
   ]
  },
  {
   "cell_type": "code",
   "execution_count": 2,
   "metadata": {},
   "outputs": [],
   "source": [
    "problem_name = \"FoldX_stability\""
   ]
  },
  {
   "cell_type": "markdown",
   "metadata": {},
   "source": [
    "## Optimizing `mRogue`"
   ]
  },
  {
   "cell_type": "markdown",
   "metadata": {},
   "source": [
    "In this example, we will focus on optimizing [`mRogue`, also known as `3NED`](https://www.rcsb.org/structure/3NED), one of the red fluorescent proteins explored in `LaMBO` {cite:p}`stanton2022accelerating`. Before optimization, we need to download the file and \"repair\" it (see [single mutations using foldx](../../understanding_foldx/01-single-mutation-using-foldx/index.ipynb)).\n",
    "\n",
    "We assume that the file is already here: [TODO: expand/automate the process of repair]."
   ]
  },
  {
   "cell_type": "code",
   "execution_count": 3,
   "metadata": {},
   "outputs": [
    {
     "name": "stdout",
     "output_type": "stream",
     "text": [
      "3ned_Repair.pdb                    optimizing_protein_stability.ipynb\n"
     ]
    }
   ],
   "source": [
    "!ls"
   ]
  },
  {
   "cell_type": "code",
   "execution_count": 4,
   "metadata": {},
   "outputs": [
    {
     "data": {
      "text/plain": [
       "True"
      ]
     },
     "execution_count": 4,
     "metadata": {},
     "output_type": "execute_result"
    }
   ],
   "source": [
    "from pathlib import Path\n",
    "\n",
    "wildtype_pdb_path = Path(\"./3ned_Repair.pdb\").resolve()\n",
    "wildtype_pdb_path.exists()  # Should say True"
   ]
  },
  {
   "cell_type": "markdown",
   "metadata": {},
   "source": [
    "## Defining the objective function"
   ]
  },
  {
   "cell_type": "markdown",
   "metadata": {},
   "source": [
    "In this tutorial, we optimize the stability of `mRogue` using the `FoldX_Stability` problem factory. The first step is creating the problem:\n",
    "\n",
    ":::{warning}\n",
    "\n",
    "In general, it is a good idea to check how to create instances of individual problems in their documentation, since they might need extra inputs. [TODO: add where to find these].\n",
    "\n",
    "`FoldX_stability` only needs one extra keyword argument: a `wildtype_pdb_path`. `poli` will hopefully remind you what you forgot with its error messages.\n",
    "\n",
    ":::"
   ]
  },
  {
   "cell_type": "code",
   "execution_count": 5,
   "metadata": {
    "tags": [
     "hide-output"
    ]
   },
   "outputs": [
    {
     "name": "stdout",
     "output_type": "stream",
     "text": [
      "   ********************************************\n",
      "   ***                                      ***\n",
      "   ***             FoldX 4 (c)              ***\n",
      "   ***                                      ***\n",
      "   ***     code by the FoldX Consortium     ***\n",
      "   ***                                      ***\n",
      "   ***     Jesper Borg, Frederic Rousseau   ***\n",
      "   ***    Joost Schymkowitz, Luis Serrano   ***\n",
      "   ***    Peter Vanhee, Erik Verschueren    ***\n",
      "   ***     Lies Baeten, Javier Delgado      ***\n",
      "   ***       and Francois Stricher          ***\n",
      "   *** and any other of the 9! permutations ***\n",
      "   ***   based on an original concept by    ***\n",
      "   ***   Raphael Guerois and Luis Serrano   ***\n",
      "   ********************************************\n",
      "\n",
      "1 models read: 3ned_Repair.pdb\n",
      "\n",
      "BackHbond       =               -178.70\n",
      "SideHbond       =               -76.61\n",
      "Energy_VdW      =               -267.80\n",
      "Electro         =               -13.75\n",
      "Energy_SolvP    =               374.21\n",
      "Energy_SolvH    =               -351.07\n",
      "Energy_vdwclash =               6.28\n",
      "energy_torsion  =               7.33\n",
      "backbone_vdwclash=              65.17\n",
      "Entropy_sidec   =               146.42\n",
      "Entropy_mainc   =               340.27\n",
      "water bonds     =               0.00\n",
      "helix dipole    =               0.00\n",
      "loop_entropy    =               0.00\n",
      "cis_bond        =               2.25\n",
      "disulfide       =               0.00\n",
      "kn electrostatic=               0.00\n",
      "partial covalent interactions = 0.00\n",
      "Energy_Ionisation =             1.77\n",
      "Entropy Complex =               0.00\n",
      "-----------------------------------------------------------\n",
      "Total          = \t\t\t\t  -9.41\n",
      "\n",
      "Starting BuildModel\n",
      "Reading EA1E;\n",
      "Residue to Mutate GLUA1 has residue index 0\n",
      "Mutating residue = GLUA1 into GLU\n",
      "Your file run OK\n",
      "End time of FoldX: Thu Aug 10 16:20:18 2023\n",
      "Total time spend: 6.15 seconds.\n",
      "validated file \"3ned_Repair_1.pdb\" => successfully finished\n",
      "Cleaning BuildModel...DONE\n"
     ]
    }
   ],
   "source": [
    "from poli import objective_factory\n",
    "\n",
    "problem_info, f, x0, y0, run_info = objective_factory.create(\n",
    "    name=\"FoldX_stability\",\n",
    "    caller_info=None,\n",
    "    observer=None,\n",
    "    wildtype_pdb_path=wildtype_pdb_path\n",
    ")"
   ]
  },
  {
   "cell_type": "markdown",
   "metadata": {},
   "source": [
    "`objective_factory.create` returns four things:\n",
    "\n",
    "1. a `problem_info` with a description of the problem, including useful attributes like `alphabet` or `max_sequence_length`. (See more [here (TODO: ADD)]()).\n",
    "2. a black-box function `f: AbstractBlackBox` from `poli`.\n",
    "3. an initial design `x0: np.ndarray`, and\n",
    "4. an initial evaluation `y0: np.ndarray`.\n",
    "5. `run_info`, or the output of the observer (?)."
   ]
  },
  {
   "cell_type": "markdown",
   "metadata": {},
   "source": [
    "These are all the ingredients required for an abstract solver to work. The next section shows how to use a baseline solver, which can be easily replaced by any other solver you implement (as long as it inherits from the `AbstractSolver` in `poli_baselines.core.abstract_solver`)."
   ]
  },
  {
   "cell_type": "markdown",
   "metadata": {},
   "source": [
    "## Optimizing using a `RandomMutation` solver"
   ]
  },
  {
   "cell_type": "markdown",
   "metadata": {},
   "source": [
    "In this tutorial we use the simplest baseline for discrete sequence optimization: a `RandomMutation` which takes the best performing sequence and randomly mutates it by selecting a position at random, and altering for another element of the alphabet.\n",
    "\n",
    ":::{note}\n",
    "\n",
    "There's nothing special about `RandomMutation` here. You could drop-in any solver you implement as long as it\n",
    "\n",
    "1. Inherits from `AbstractSolver` in `poli_baselines.core.abstract_solver`, and it\n",
    "2. implements the abstract method `next_candidate() -> np.ndarray`.\n",
    "\n",
    "[Check this tutorial on creating solvers for more details](../desired_design_patterns/defining_a_problem_solver.md).\n",
    "\n",
    ":::"
   ]
  },
  {
   "cell_type": "code",
   "execution_count": 11,
   "metadata": {},
   "outputs": [],
   "source": [
    "from poli_baselines.solvers.simple.random_mutation import RandomMutation\n",
    "solver = RandomMutation(\n",
    "    black_box=f,\n",
    "    x0=x0,\n",
    "    y0=y0,\n",
    "    alphabet_size=len(problem_info.alphabet)\n",
    ")"
   ]
  },
  {
   "cell_type": "markdown",
   "metadata": {},
   "source": [
    "**And that's it!** You can optimize the objective function passed as `black_box` by just calling the `.solve(n_iters)` method: (be careful, this might take a while)"
   ]
  },
  {
   "cell_type": "code",
   "execution_count": 12,
   "metadata": {
    "tags": [
     "hide-output"
    ]
   },
   "outputs": [
    {
     "name": "stdout",
     "output_type": "stream",
     "text": [
      "Your file run OK\n",
      "End time of FoldX: Thu Aug 10 16:22:09 2023\n",
      "Total time spend: 42.07 seconds.\n",
      "validated file \"3ned_Repair_1.pdb\" => successfully finished\n",
      "Cleaning BuildModel...DONE\n",
      "Iteration 0: [[10.2741]], best so far: 10.2741\n",
      "   ********************************************\n",
      "   ***                                      ***\n",
      "   ***             FoldX 4 (c)              ***\n",
      "   ***                                      ***\n",
      "   ***     code by the FoldX Consortium     ***\n",
      "   ***                                      ***\n",
      "   ***     Jesper Borg, Frederic Rousseau   ***\n",
      "   ***    Joost Schymkowitz, Luis Serrano   ***\n",
      "   ***    Peter Vanhee, Erik Verschueren    ***\n",
      "   ***     Lies Baeten, Javier Delgado      ***\n",
      "   ***       and Francois Stricher          ***\n",
      "   *** and any other of the 9! permutations ***\n",
      "   ***   based on an original concept by    ***\n",
      "   ***   Raphael Guerois and Luis Serrano   ***\n",
      "   ********************************************\n",
      "\n",
      "1 models read: 3ned_Repair.pdb\n",
      "\n",
      "BackHbond       =               -178.70\n",
      "SideHbond       =               -76.61\n",
      "Energy_VdW      =               -267.80\n",
      "Electro         =               -13.75\n",
      "Energy_SolvP    =               374.21\n",
      "Energy_SolvH    =               -351.07\n",
      "Energy_vdwclash =               6.28\n",
      "energy_torsion  =               7.33\n",
      "backbone_vdwclash=              65.17\n",
      "Entropy_sidec   =               146.42\n",
      "Entropy_mainc   =               340.27\n",
      "water bonds     =               0.00\n",
      "helix dipole    =               0.00\n",
      "loop_entropy    =               0.00\n",
      "cis_bond        =               2.25\n",
      "disulfide       =               0.00\n",
      "kn electrostatic=               0.00\n",
      "partial covalent interactions = 0.00\n",
      "Energy_Ionisation =             1.77\n",
      "Entropy Complex =               0.00\n",
      "-----------------------------------------------------------\n",
      "Total          = \t\t\t\t  -9.41\n",
      "\n",
      "Starting BuildModel\n",
      "Reading PA80R;\n",
      "Residue to Mutate PROA80 has residue index 79\n",
      "Mutating residue = PROA80 into ARG\n",
      "Your file run OK\n",
      "End time of FoldX: Thu Aug 10 16:22:15 2023\n",
      "Total time spend: 5.52 seconds.\n",
      "validated file \"3ned_Repair_1.pdb\" => successfully finished\n",
      "Cleaning BuildModel...DONE\n",
      "Iteration 1: [[7.50838]], best so far: 10.2741\n",
      "   ********************************************\n",
      "   ***                                      ***\n",
      "   ***             FoldX 4 (c)              ***\n",
      "   ***                                      ***\n",
      "   ***     code by the FoldX Consortium     ***\n",
      "   ***                                      ***\n",
      "   ***     Jesper Borg, Frederic Rousseau   ***\n",
      "   ***    Joost Schymkowitz, Luis Serrano   ***\n",
      "   ***    Peter Vanhee, Erik Verschueren    ***\n",
      "   ***     Lies Baeten, Javier Delgado      ***\n",
      "   ***       and Francois Stricher          ***\n",
      "   *** and any other of the 9! permutations ***\n",
      "   ***   based on an original concept by    ***\n",
      "   ***   Raphael Guerois and Luis Serrano   ***\n",
      "   ********************************************\n",
      "\n",
      "1 models read: 3ned_Repair.pdb\n",
      "\n",
      "BackHbond       =               -178.70\n",
      "SideHbond       =               -76.61\n",
      "Energy_VdW      =               -267.80\n",
      "Electro         =               -13.75\n",
      "Energy_SolvP    =               374.21\n",
      "Energy_SolvH    =               -351.07\n",
      "Energy_vdwclash =               6.28\n",
      "energy_torsion  =               7.33\n",
      "backbone_vdwclash=              65.17\n",
      "Entropy_sidec   =               146.42\n",
      "Entropy_mainc   =               340.27\n",
      "water bonds     =               0.00\n",
      "helix dipole    =               0.00\n",
      "loop_entropy    =               0.00\n",
      "cis_bond        =               2.25\n",
      "disulfide       =               0.00\n",
      "kn electrostatic=               0.00\n",
      "partial covalent interactions = 0.00\n",
      "Energy_Ionisation =             1.77\n",
      "Entropy Complex =               0.00\n",
      "-----------------------------------------------------------\n",
      "Total          = \t\t\t\t  -9.41\n",
      "\n",
      "Starting BuildModel\n",
      "Reading AA6F,PA80R;\n",
      "Residue to Mutate ALAA6 has residue index 5\n",
      "Residue to Mutate PROA80 has residue index 79\n",
      "Mutating residue = ALAA6 into PHE\n",
      "Mutating residue = PROA80 into ARG\n",
      "Your file run OK\n",
      "End time of FoldX: Thu Aug 10 16:22:25 2023\n",
      "Total time spend: 9.87 seconds.\n",
      "validated file \"3ned_Repair_1.pdb\" => successfully finished\n",
      "Cleaning BuildModel...DONE\n",
      "Iteration 2: [[7.33792]], best so far: 10.2741\n"
     ]
    },
    {
     "name": "stdout",
     "output_type": "stream",
     "text": [
      "   ********************************************\n",
      "   ***                                      ***\n",
      "   ***             FoldX 4 (c)              ***\n",
      "   ***                                      ***\n",
      "   ***     code by the FoldX Consortium     ***\n",
      "   ***                                      ***\n",
      "   ***     Jesper Borg, Frederic Rousseau   ***\n",
      "   ***    Joost Schymkowitz, Luis Serrano   ***\n",
      "   ***    Peter Vanhee, Erik Verschueren    ***\n",
      "   ***     Lies Baeten, Javier Delgado      ***\n",
      "   ***       and Francois Stricher          ***\n",
      "   *** and any other of the 9! permutations ***\n",
      "   ***   based on an original concept by    ***\n",
      "   ***   Raphael Guerois and Luis Serrano   ***\n",
      "   ********************************************\n",
      "\n",
      "1 models read: 3ned_Repair.pdb\n",
      "\n",
      "BackHbond       =               -178.70\n",
      "SideHbond       =               -76.61\n",
      "Energy_VdW      =               -267.80\n",
      "Electro         =               -13.75\n",
      "Energy_SolvP    =               374.21\n",
      "Energy_SolvH    =               -351.07\n",
      "Energy_vdwclash =               6.28\n",
      "energy_torsion  =               7.33\n",
      "backbone_vdwclash=              65.17\n",
      "Entropy_sidec   =               146.42\n",
      "Entropy_mainc   =               340.27\n",
      "water bonds     =               0.00\n",
      "helix dipole    =               0.00\n",
      "loop_entropy    =               0.00\n",
      "cis_bond        =               2.25\n",
      "disulfide       =               0.00\n",
      "kn electrostatic=               0.00\n",
      "partial covalent interactions = 0.00\n",
      "Energy_Ionisation =             1.77\n",
      "Entropy Complex =               0.00\n",
      "-----------------------------------------------------------\n",
      "Total          = \t\t\t\t  -9.41\n",
      "\n",
      "Starting BuildModel\n",
      "Reading PA80R,DA200A;\n",
      "Residue to Mutate PROA80 has residue index 79\n",
      "Residue to Mutate ASPA200 has residue index 199\n",
      "Mutating residue = ASPA200 into ALA\n",
      "Mutating residue = PROA80 into ARG\n",
      "Your file run OK\n",
      "End time of FoldX: Thu Aug 10 16:22:31 2023\n",
      "Total time spend: 6.43 seconds.\n",
      "validated file \"3ned_Repair_1.pdb\" => successfully finished\n",
      "Cleaning BuildModel...DONE\n"
     ]
    }
   ],
   "source": [
    "solver.solve(max_iter=3)"
   ]
  },
  {
   "cell_type": "markdown",
   "metadata": {},
   "source": [
    "## Checking the results"
   ]
  },
  {
   "cell_type": "markdown",
   "metadata": {},
   "source": [
    "After optimization, the results are stored inside `solver.history`, which is a dictionary with `\"x\"` and `\"y\"` keys. Let's check what the best optimization result was:"
   ]
  },
  {
   "cell_type": "code",
   "execution_count": 13,
   "metadata": {},
   "outputs": [
    {
     "name": "stdout",
     "output_type": "stream",
     "text": [
      "All y values: [array([[9.41639]]), array([[10.2741]]), array([[7.50838]]), array([[7.33792]])]\n",
      "best stability: 10.2741\n",
      "Associated sequence: EEDNMAIIKEFMRFKTHMEGSVNGHEFEIEGEGEGRPYEGTQTAKLKVTKGGPLPFAWDILSPQFSKAYVKHPADIRDYLKLSFPEGFKWERVMNFEDGGVVTVTQDSSLQDGEFIYKVKLRGTNFPSDGPVMQKKTMGWEACSERMYPEDGALKGEMKMRLKLKDGGHYDAEVKTTYKAKKPVQLPGAYNTNTKLDITSHNEDYTIVEQYERNEGRHSTGGMDELYK\n"
     ]
    }
   ],
   "source": [
    "import numpy as np\n",
    "\n",
    "best_stability = np.max(solver.history[\"y\"])\n",
    "\n",
    "inverse_alphabet = {v: k for k, v in problem_info.alphabet.items()}\n",
    "best_sequence_as_ints = solver.history[\"x\"][np.argmax(solver.history[\"y\"])].flatten()\n",
    "best_sequence = \"\".join([inverse_alphabet[x_i] for x_i in best_sequence_as_ints])\n",
    "\n",
    "print(f\"All y values: {solver.history['y']}\")\n",
    "print(f\"best stability: {best_stability}\")\n",
    "print(f\"Associated sequence: {best_sequence}\")"
   ]
  },
  {
   "cell_type": "code",
   "execution_count": null,
   "metadata": {},
   "outputs": [],
   "source": []
  }
 ],
 "metadata": {
  "kernelspec": {
   "display_name": "poli-dev",
   "language": "python",
   "name": "python3"
  },
  "language_info": {
   "codemirror_mode": {
    "name": "ipython",
    "version": 3
   },
   "file_extension": ".py",
   "mimetype": "text/x-python",
   "name": "python",
   "nbconvert_exporter": "python",
   "pygments_lexer": "ipython3",
   "version": "3.9.16"
  },
  "orig_nbformat": 4
 },
 "nbformat": 4,
 "nbformat_minor": 2
}
